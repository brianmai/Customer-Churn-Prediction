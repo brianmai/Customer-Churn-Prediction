{
 "cells": [
  {
   "cell_type": "code",
   "execution_count": null,
   "id": "da0e4c34-c3d3-4c22-9569-04f77ba8fa86",
   "metadata": {},
   "outputs": [],
   "source": [
    "# This Python 3 environment comes with many helpful analytics libraries installed\n",
    "# It is defined by the kaggle/python Docker image: https://github.com/kaggle/docker-python\n",
    "# For example, here's several helpful packages to load\n",
    "\n",
    "import numpy as np # linear algebra\n",
    "import pandas as pd # data processing, CSV file I/O (e.g. pd.read_csv)\n",
    "\n",
    "# Input data files are available in the read-only \"../input/\" directory\n",
    "# For example, running this (by clicking run or pressing Shift+Enter) will list all files under the input directory\n",
    "\n",
    "import os\n",
    "for dirname, _, filenames in os.walk('/kaggle/input'):\n",
    "    for filename in filenames:\n",
    "        print(os.path.join(dirname, filename))\n",
    "\n",
    "# You can write up to 20GB to the current directory (/kaggle/working/) that gets preserved as output when you create a version using \"Save & Run All\" \n",
    "# You can also write temporary files to /kaggle/temp/, but they won't be saved outside of the current session"
   ]
  },
  {
   "cell_type": "code",
   "execution_count": null,
   "id": "4fc475b2-decd-4981-9092-c79493a3d42c",
   "metadata": {
    "tags": []
   },
   "outputs": [],
   "source": [
    "#Reference\n",
    "\n",
    "# https://www.kaggle.com/scr0ll0/august-2021-lgbm-xgb-catboost-optuna#3.-Optuna"
   ]
  },
  {
   "cell_type": "markdown",
   "id": "e4459cea",
   "metadata": {
    "tags": []
   },
   "source": [
    "# Import packages and dataset"
   ]
  },
  {
   "cell_type": "code",
   "execution_count": 2,
   "id": "e2b96f8a",
   "metadata": {},
   "outputs": [],
   "source": [
    "import pandas as pd #dataframe manipulation\n",
    "import numpy as np #linear algebra\n",
    "\n",
    "#Data Visualization\n",
    "import matplotlib.pyplot as plt\n",
    "import seaborn as sns\n",
    "\n",
    "#Ignore warnings\n",
    "import warnings\n",
    "warnings.filterwarnings('ignore')\n",
    "\n",
    "%matplotlib inline\n",
    "\n",
    "np.random.seed(42)"
   ]
  },
  {
   "cell_type": "code",
   "execution_count": 3,
   "id": "cd1b3539",
   "metadata": {},
   "outputs": [],
   "source": [
    "# Display all results in a cell, not just the last line\n",
    "from IPython.core.interactiveshell import InteractiveShell\n",
    "InteractiveShell.ast_node_interactivity = \"all\""
   ]
  },
  {
   "cell_type": "code",
   "execution_count": 4,
   "id": "54998804-55f5-4f17-a0e4-8dfefa118f8c",
   "metadata": {},
   "outputs": [],
   "source": [
    "from pandas_profiling import ProfileReport"
   ]
  },
  {
   "cell_type": "code",
   "execution_count": 5,
   "id": "582f63c6",
   "metadata": {},
   "outputs": [],
   "source": [
    "train = pd.read_csv('customer_churn.csv')"
   ]
  },
  {
   "cell_type": "markdown",
   "id": "9e4aa38e-5120-4ca1-9cef-26c8fe8268b0",
   "metadata": {
    "heading_collapsed": "true",
    "tags": []
   },
   "source": [
    "# Exploratory Data Analysis"
   ]
  },
  {
   "cell_type": "code",
   "execution_count": null,
   "id": "42e2bec7-a32b-40be-ae0c-3575c42fbc8e",
   "metadata": {
    "tags": []
   },
   "outputs": [],
   "source": [
    "profile = ProfileReport(train)\n",
    "profile\n",
    "\n",
    "profile.to_file('pandas_profiling_EDL.html')"
   ]
  },
  {
   "cell_type": "code",
   "execution_count": null,
   "id": "bde34628",
   "metadata": {
    "tags": []
   },
   "outputs": [],
   "source": [
    "train.shape\n",
    "train.info()\n",
    "train.head()\n",
    "train.describe()"
   ]
  },
  {
   "cell_type": "code",
   "execution_count": null,
   "id": "b454049a-9cd9-41c9-a7d2-2615518719b2",
   "metadata": {},
   "outputs": [],
   "source": [
    "train.groupby('Churn')['customerID'].count()"
   ]
  },
  {
   "cell_type": "markdown",
   "id": "e0c42d13-62ab-456f-92b3-8bb59521c3ff",
   "metadata": {},
   "source": [
    "Summary:\n",
    "\n",
    "1. There are 7043 observations and 21 variables, including the target variable \"Churn\"\n",
    "2. No missing value - great!\n",
    "3. 21 variables: 17 categoricals, 1 unique identifier \"customerID\", 3 continuous variables\n",
    "4. SeniorCitizen & MonthlyCharge, tenure & MonthlyCharges has positive correlation\n",
    "5. There is an undersample of churned customer, represented by 'Yes' in the 'Churn' column. Not by much. Ratio is roughly 3:5. Need to investigate Recall & Precision to determine if problem.\n",
    "\n",
    "Actionable:\n",
    "\n",
    "1. One Hot Encoding categorical variables \n",
    "2. No rescaling needed\n",
    "3. Need to change TotalCharges from object to float\n",
    "4. Need to recalculate TotalCharges"
   ]
  },
  {
   "cell_type": "markdown",
   "id": "ad72f3d5-4311-4782-9321-44595930e939",
   "metadata": {
    "tags": []
   },
   "source": [
    "# Data Preprocessing"
   ]
  },
  {
   "cell_type": "code",
   "execution_count": 6,
   "id": "5cb9d5ac-453e-4ebb-823d-e8e07a78d77c",
   "metadata": {
    "tags": []
   },
   "outputs": [
    {
     "data": {
      "text/plain": [
       "11"
      ]
     },
     "execution_count": 6,
     "metadata": {},
     "output_type": "execute_result"
    }
   ],
   "source": [
    "#Convert TotalCharges to float instead of object\n",
    "train['TotalCharges'] =pd.to_numeric(train['TotalCharges'], errors='coerce')\n",
    "\n",
    "#Check for NaN value\n",
    "train['TotalCharges'].isnull().sum()\n",
    "\n",
    "#Drop NaN value\n",
    "train.dropna(inplace=True)"
   ]
  },
  {
   "cell_type": "code",
   "execution_count": 7,
   "id": "bdc1f068-b8d4-47cc-b6a3-a8d6249c6842",
   "metadata": {
    "tags": []
   },
   "outputs": [],
   "source": [
    "#Convert target variable to binary, numeric variable\n",
    "train['Churn'].replace(to_replace='Yes', value=1, inplace=True)\n",
    "train['Churn'].replace(to_replace='No',  value=0, inplace=True)"
   ]
  },
  {
   "cell_type": "code",
   "execution_count": 8,
   "id": "f353f3f4-3225-4f5d-80cb-a374546c9773",
   "metadata": {},
   "outputs": [],
   "source": [
    "#Remove customerID variable\n",
    "train =train.drop(['customerID'], axis=1)"
   ]
  },
  {
   "cell_type": "code",
   "execution_count": 9,
   "id": "bbf09189-56f3-4838-861d-1a3c77d47f93",
   "metadata": {},
   "outputs": [
    {
     "data": {
      "text/html": [
       "<div>\n",
       "<style scoped>\n",
       "    .dataframe tbody tr th:only-of-type {\n",
       "        vertical-align: middle;\n",
       "    }\n",
       "\n",
       "    .dataframe tbody tr th {\n",
       "        vertical-align: top;\n",
       "    }\n",
       "\n",
       "    .dataframe thead th {\n",
       "        text-align: right;\n",
       "    }\n",
       "</style>\n",
       "<table border=\"1\" class=\"dataframe\">\n",
       "  <thead>\n",
       "    <tr style=\"text-align: right;\">\n",
       "      <th></th>\n",
       "      <th>SeniorCitizen</th>\n",
       "      <th>tenure</th>\n",
       "      <th>MonthlyCharges</th>\n",
       "      <th>TotalCharges</th>\n",
       "      <th>Churn</th>\n",
       "      <th>gender_Female</th>\n",
       "      <th>gender_Male</th>\n",
       "      <th>Partner_No</th>\n",
       "      <th>Partner_Yes</th>\n",
       "      <th>Dependents_No</th>\n",
       "      <th>...</th>\n",
       "      <th>StreamingMovies_Yes</th>\n",
       "      <th>Contract_Month-to-month</th>\n",
       "      <th>Contract_One year</th>\n",
       "      <th>Contract_Two year</th>\n",
       "      <th>PaperlessBilling_No</th>\n",
       "      <th>PaperlessBilling_Yes</th>\n",
       "      <th>PaymentMethod_Bank transfer (automatic)</th>\n",
       "      <th>PaymentMethod_Credit card (automatic)</th>\n",
       "      <th>PaymentMethod_Electronic check</th>\n",
       "      <th>PaymentMethod_Mailed check</th>\n",
       "    </tr>\n",
       "  </thead>\n",
       "  <tbody>\n",
       "    <tr>\n",
       "      <th>0</th>\n",
       "      <td>0</td>\n",
       "      <td>1</td>\n",
       "      <td>29.85</td>\n",
       "      <td>29.85</td>\n",
       "      <td>0</td>\n",
       "      <td>1</td>\n",
       "      <td>0</td>\n",
       "      <td>0</td>\n",
       "      <td>1</td>\n",
       "      <td>1</td>\n",
       "      <td>...</td>\n",
       "      <td>0</td>\n",
       "      <td>1</td>\n",
       "      <td>0</td>\n",
       "      <td>0</td>\n",
       "      <td>0</td>\n",
       "      <td>1</td>\n",
       "      <td>0</td>\n",
       "      <td>0</td>\n",
       "      <td>1</td>\n",
       "      <td>0</td>\n",
       "    </tr>\n",
       "    <tr>\n",
       "      <th>1</th>\n",
       "      <td>0</td>\n",
       "      <td>34</td>\n",
       "      <td>56.95</td>\n",
       "      <td>1889.50</td>\n",
       "      <td>0</td>\n",
       "      <td>0</td>\n",
       "      <td>1</td>\n",
       "      <td>1</td>\n",
       "      <td>0</td>\n",
       "      <td>1</td>\n",
       "      <td>...</td>\n",
       "      <td>0</td>\n",
       "      <td>0</td>\n",
       "      <td>1</td>\n",
       "      <td>0</td>\n",
       "      <td>1</td>\n",
       "      <td>0</td>\n",
       "      <td>0</td>\n",
       "      <td>0</td>\n",
       "      <td>0</td>\n",
       "      <td>1</td>\n",
       "    </tr>\n",
       "    <tr>\n",
       "      <th>2</th>\n",
       "      <td>0</td>\n",
       "      <td>2</td>\n",
       "      <td>53.85</td>\n",
       "      <td>108.15</td>\n",
       "      <td>1</td>\n",
       "      <td>0</td>\n",
       "      <td>1</td>\n",
       "      <td>1</td>\n",
       "      <td>0</td>\n",
       "      <td>1</td>\n",
       "      <td>...</td>\n",
       "      <td>0</td>\n",
       "      <td>1</td>\n",
       "      <td>0</td>\n",
       "      <td>0</td>\n",
       "      <td>0</td>\n",
       "      <td>1</td>\n",
       "      <td>0</td>\n",
       "      <td>0</td>\n",
       "      <td>0</td>\n",
       "      <td>1</td>\n",
       "    </tr>\n",
       "    <tr>\n",
       "      <th>3</th>\n",
       "      <td>0</td>\n",
       "      <td>45</td>\n",
       "      <td>42.30</td>\n",
       "      <td>1840.75</td>\n",
       "      <td>0</td>\n",
       "      <td>0</td>\n",
       "      <td>1</td>\n",
       "      <td>1</td>\n",
       "      <td>0</td>\n",
       "      <td>1</td>\n",
       "      <td>...</td>\n",
       "      <td>0</td>\n",
       "      <td>0</td>\n",
       "      <td>1</td>\n",
       "      <td>0</td>\n",
       "      <td>1</td>\n",
       "      <td>0</td>\n",
       "      <td>1</td>\n",
       "      <td>0</td>\n",
       "      <td>0</td>\n",
       "      <td>0</td>\n",
       "    </tr>\n",
       "    <tr>\n",
       "      <th>4</th>\n",
       "      <td>0</td>\n",
       "      <td>2</td>\n",
       "      <td>70.70</td>\n",
       "      <td>151.65</td>\n",
       "      <td>1</td>\n",
       "      <td>1</td>\n",
       "      <td>0</td>\n",
       "      <td>1</td>\n",
       "      <td>0</td>\n",
       "      <td>1</td>\n",
       "      <td>...</td>\n",
       "      <td>0</td>\n",
       "      <td>1</td>\n",
       "      <td>0</td>\n",
       "      <td>0</td>\n",
       "      <td>0</td>\n",
       "      <td>1</td>\n",
       "      <td>0</td>\n",
       "      <td>0</td>\n",
       "      <td>1</td>\n",
       "      <td>0</td>\n",
       "    </tr>\n",
       "  </tbody>\n",
       "</table>\n",
       "<p>5 rows × 46 columns</p>\n",
       "</div>"
      ],
      "text/plain": [
       "   SeniorCitizen  tenure  MonthlyCharges  TotalCharges  Churn  gender_Female  \\\n",
       "0              0       1           29.85         29.85      0              1   \n",
       "1              0      34           56.95       1889.50      0              0   \n",
       "2              0       2           53.85        108.15      1              0   \n",
       "3              0      45           42.30       1840.75      0              0   \n",
       "4              0       2           70.70        151.65      1              1   \n",
       "\n",
       "   gender_Male  Partner_No  Partner_Yes  Dependents_No  ...  \\\n",
       "0            0           0            1              1  ...   \n",
       "1            1           1            0              1  ...   \n",
       "2            1           1            0              1  ...   \n",
       "3            1           1            0              1  ...   \n",
       "4            0           1            0              1  ...   \n",
       "\n",
       "   StreamingMovies_Yes  Contract_Month-to-month  Contract_One year  \\\n",
       "0                    0                        1                  0   \n",
       "1                    0                        0                  1   \n",
       "2                    0                        1                  0   \n",
       "3                    0                        0                  1   \n",
       "4                    0                        1                  0   \n",
       "\n",
       "   Contract_Two year  PaperlessBilling_No  PaperlessBilling_Yes  \\\n",
       "0                  0                    0                     1   \n",
       "1                  0                    1                     0   \n",
       "2                  0                    0                     1   \n",
       "3                  0                    1                     0   \n",
       "4                  0                    0                     1   \n",
       "\n",
       "   PaymentMethod_Bank transfer (automatic)  \\\n",
       "0                                        0   \n",
       "1                                        0   \n",
       "2                                        0   \n",
       "3                                        1   \n",
       "4                                        0   \n",
       "\n",
       "   PaymentMethod_Credit card (automatic)  PaymentMethod_Electronic check  \\\n",
       "0                                      0                               1   \n",
       "1                                      0                               0   \n",
       "2                                      0                               0   \n",
       "3                                      0                               0   \n",
       "4                                      0                               1   \n",
       "\n",
       "   PaymentMethod_Mailed check  \n",
       "0                           0  \n",
       "1                           1  \n",
       "2                           1  \n",
       "3                           0  \n",
       "4                           0  \n",
       "\n",
       "[5 rows x 46 columns]"
      ]
     },
     "execution_count": 9,
     "metadata": {},
     "output_type": "execute_result"
    },
    {
     "data": {
      "text/plain": [
       "(7032, 46)"
      ]
     },
     "execution_count": 9,
     "metadata": {},
     "output_type": "execute_result"
    }
   ],
   "source": [
    "# One Hot Encoding categorical variable\n",
    "df = pd.get_dummies(train)\n",
    "df.head()\n",
    "df.shape"
   ]
  },
  {
   "cell_type": "code",
   "execution_count": 10,
   "id": "80464b0f-23bb-4cdb-9680-375656316792",
   "metadata": {},
   "outputs": [
    {
     "data": {
      "text/plain": [
       "<Figure size 1080x576 with 0 Axes>"
      ]
     },
     "execution_count": 10,
     "metadata": {},
     "output_type": "execute_result"
    },
    {
     "data": {
      "text/plain": [
       "<AxesSubplot:>"
      ]
     },
     "execution_count": 10,
     "metadata": {},
     "output_type": "execute_result"
    },
    {
     "data": {
      "image/png": "[encoded data removed]",
      "text/plain": [
       "<Figure size 1080x576 with 1 Axes>"
      ]
     },
     "metadata": {
      "needs_background": "light"
     },
     "output_type": "display_data"
    }
   ],
   "source": [
    "# Premilinary check for correlation with target variable aka feature importance\n",
    "plt.figure(figsize=(15,8))\n",
    "df.corr()['Churn'].sort_values(ascending =False).plot(kind='bar')"
   ]
  },
  {
   "cell_type": "markdown",
   "id": "8512194c-1f3b-440f-9239-4a0e68caaeaf",
   "metadata": {},
   "source": [
    "# Baseline Model with sk-learn"
   ]
  },
  {
   "cell_type": "code",
   "execution_count": 11,
   "id": "6455949d-ee70-4210-916e-881f2b52505d",
   "metadata": {},
   "outputs": [],
   "source": [
    "from sklearn.model_selection import train_test_split\n",
    "\n",
    "from sklearn.linear_model import LogisticRegression\n",
    "\n",
    "from sklearn.metrics import confusion_matrix, roc_auc_score"
   ]
  },
  {
   "cell_type": "code",
   "execution_count": 37,
   "id": "19f718d8-8701-4472-aa7d-0b30d2491009",
   "metadata": {},
   "outputs": [],
   "source": [
    "# Create X and y\n",
    "y = df['Churn']\n",
    "X = df.drop(['Churn'], axis=1)"
   ]
  },
  {
   "cell_type": "code",
   "execution_count": 13,
   "id": "171724ea-dab3-46b0-a12b-46f056c1e881",
   "metadata": {},
   "outputs": [],
   "source": [
    "# Scaling all variables to a range of 0 to 1 with MinMaxScaler"
   ]
  },
  {
   "cell_type": "code",
   "execution_count": 14,
   "id": "fc8216d2-3281-434d-b9d1-3dc5892c63ab",
   "metadata": {},
   "outputs": [],
   "source": [
    "# Create train and test set\n",
    "X_train, X_test, y_train, y_test = train_test_split(X, y, test_size=0.3, random_state=42)"
   ]
  },
  {
   "cell_type": "code",
   "execution_count": 15,
   "id": "f87fdb37-45e5-458b-83c6-66a1447aca2c",
   "metadata": {},
   "outputs": [
    {
     "data": {
      "text/plain": [
       "LogisticRegression()"
      ]
     },
     "execution_count": 15,
     "metadata": {},
     "output_type": "execute_result"
    }
   ],
   "source": [
    "#Train a logistic regression model\n",
    "model = LogisticRegression()\n",
    "model.fit(X_train, y_train)"
   ]
  },
  {
   "cell_type": "code",
   "execution_count": 16,
   "id": "dc525b2a-beb8-434a-a586-3a0a12eefa85",
   "metadata": {},
   "outputs": [
    {
     "name": "stdout",
     "output_type": "stream",
     "text": [
      "0.7131511446059732\n",
      "[[1381  168]\n",
      " [ 261  300]]\n"
     ]
    }
   ],
   "source": [
    "# Score the trained model with test set\n",
    "y_pred = model.predict(X_test)\n",
    "print(roc_auc_score(y_test, y_pred))\n",
    "print(confusion_matrix(y_test, y_pred))"
   ]
  },
  {
   "cell_type": "code",
   "execution_count": 17,
   "id": "25ea5d3a-02ba-4d8c-9a4a-24df8b55822a",
   "metadata": {},
   "outputs": [
    {
     "name": "stdout",
     "output_type": "stream",
     "text": [
      "AxesSubplot(0.125,0.125;0.775x0.755)\n"
     ]
    },
    {
     "data": {
      "image/png": "[encoded data removed]",
      "text/plain": [
       "<Figure size 432x288 with 1 Axes>"
      ]
     },
     "metadata": {
      "needs_background": "light"
     },
     "output_type": "display_data"
    }
   ],
   "source": [
    "# Check feature importance\n",
    "weights = pd.Series(model.coef_[0], index=X.columns.values)\n",
    "print (weights.sort_values(ascending = False)[:10].plot(kind='bar'))"
   ]
  },
  {
   "cell_type": "markdown",
   "id": "d5e7aa0c-4d8d-4324-8752-85d8505cefaa",
   "metadata": {},
   "source": [
    "## Improve Baseline Model with RepeatedStratifiedKFold"
   ]
  },
  {
   "cell_type": "code",
   "execution_count": 30,
   "id": "3b268181-35e5-4511-853f-5e18e6400d5f",
   "metadata": {},
   "outputs": [
    {
     "name": "stdout",
     "output_type": "stream",
     "text": [
      "0.8438121273863255\n"
     ]
    }
   ],
   "source": [
    "#https://machinelearningmastery.com/smote-oversampling-for-imbalanced-classification/\n",
    "\n",
    "from sklearn.model_selection import RepeatedStratifiedKFold\n",
    "from sklearn.model_selection import cross_val_score\n",
    "\n",
    "model = LogisticRegression()\n",
    "cv = RepeatedStratifiedKFold(n_splits=10, n_repeats=3, random_state=42)\n",
    "scores = cross_val_score(model, X, y, scoring='roc_auc', cv=cv, n_jobs=1)\n",
    "print(np.mean(scores))"
   ]
  },
  {
   "cell_type": "code",
   "execution_count": null,
   "id": "be1f4e53-9555-4ef2-a743-167d4ba0f6cf",
   "metadata": {},
   "outputs": [],
   "source": []
  },
  {
   "cell_type": "code",
   "execution_count": null,
   "id": "e6b8186f-e748-40c1-ab7a-91dfb7e6593c",
   "metadata": {},
   "outputs": [],
   "source": []
  },
  {
   "cell_type": "code",
   "execution_count": null,
   "id": "5d0f1227-ca3c-4d6e-a8cd-ac1f4404f8ed",
   "metadata": {},
   "outputs": [],
   "source": []
  },
  {
   "cell_type": "code",
   "execution_count": null,
   "id": "90f53483-5e54-4afd-873e-526976fa7cc2",
   "metadata": {},
   "outputs": [],
   "source": []
  },
  {
   "cell_type": "markdown",
   "id": "fa449453-edc0-4d32-9c3b-45a0241b57a0",
   "metadata": {},
   "source": [
    "# Advanced Algos to improve from Baseline"
   ]
  },
  {
   "cell_type": "code",
   "execution_count": 35,
   "id": "1bda154c-8440-4a37-ade3-2c0793046846",
   "metadata": {},
   "outputs": [],
   "source": [
    "from sklearn.model_selection import StratifiedKFold, RepeatedStratifiedKFold\n",
    "from sklearn.model_selection import cross_val_score\n",
    "\n",
    "from sklearn.metrics import confusion_matrix, roc_auc_score\n",
    "\n",
    "from sklearn.ensemble import RandomForestClassifier, AdaBoostClassifier\n",
    "from xgboost import XGBClassifier\n",
    "from catboost import CatBoostClassifier\n",
    "from lightgbm import LGBMClassifier"
   ]
  },
  {
   "cell_type": "code",
   "execution_count": 45,
   "id": "fbb9b15e-6e9e-4c20-84c8-177022edc88b",
   "metadata": {},
   "outputs": [],
   "source": [
    "rfc =RandomForestClassifier()\n",
    "ada =AdaBoostClassifier()\n",
    "xgbc =XGBClassifier(booster='gbtree', tree_method ='hist', verbosity=0, n_estimators=10000, learning_rate=0.05)\n",
    "catbc =CatBoostClassifier()\n",
    "lgbmc = LGBMClassifier(verbosity=0)\n",
    "\n",
    "algos =[rfc,ada]\n",
    "gradient=[xgbc,catbc,lgbmc]"
   ]
  },
  {
   "cell_type": "code",
   "execution_count": 32,
   "id": "5cae3244-4fbe-439f-8adc-f53aa013e624",
   "metadata": {
    "collapsed": true,
    "jupyter": {
     "outputs_hidden": true
    },
    "tags": []
   },
   "outputs": [
    {
     "name": "stdout",
     "output_type": "stream",
     "text": [
      "RandomForestClassifier()\n",
      "0.8187978148256244\n",
      "AdaBoostClassifier()\n",
      "0.8464419055982287\n"
     ]
    },
    {
     "ename": "KeyboardInterrupt",
     "evalue": "",
     "output_type": "error",
     "traceback": [
      "\u001b[1;31m---------------------------------------------------------------------------\u001b[0m",
      "\u001b[1;31mKeyboardInterrupt\u001b[0m                         Traceback (most recent call last)",
      "\u001b[1;32m<ipython-input-32-892de6f03e1c>\u001b[0m in \u001b[0;36m<module>\u001b[1;34m\u001b[0m\n\u001b[0;32m      2\u001b[0m \u001b[1;33m\u001b[0m\u001b[0m\n\u001b[0;32m      3\u001b[0m \u001b[1;32mfor\u001b[0m \u001b[0malgo\u001b[0m \u001b[1;32min\u001b[0m \u001b[0malgos\u001b[0m\u001b[1;33m:\u001b[0m\u001b[1;33m\u001b[0m\u001b[1;33m\u001b[0m\u001b[0m\n\u001b[1;32m----> 4\u001b[1;33m     \u001b[0mscores\u001b[0m \u001b[1;33m=\u001b[0m \u001b[0mcross_val_score\u001b[0m\u001b[1;33m(\u001b[0m\u001b[0malgo\u001b[0m\u001b[1;33m,\u001b[0m \u001b[0mX\u001b[0m\u001b[1;33m,\u001b[0m \u001b[0my\u001b[0m\u001b[1;33m,\u001b[0m \u001b[0mscoring\u001b[0m\u001b[1;33m=\u001b[0m\u001b[1;34m'roc_auc'\u001b[0m\u001b[1;33m,\u001b[0m \u001b[0mcv\u001b[0m\u001b[1;33m=\u001b[0m\u001b[0mcv\u001b[0m\u001b[1;33m,\u001b[0m \u001b[0mverbose\u001b[0m\u001b[1;33m=\u001b[0m\u001b[1;36m0\u001b[0m\u001b[1;33m,\u001b[0m \u001b[0mn_jobs\u001b[0m\u001b[1;33m=\u001b[0m\u001b[1;36m1\u001b[0m\u001b[1;33m)\u001b[0m\u001b[1;33m\u001b[0m\u001b[1;33m\u001b[0m\u001b[0m\n\u001b[0m\u001b[0;32m      5\u001b[0m     \u001b[0mprint\u001b[0m\u001b[1;33m(\u001b[0m\u001b[0mstr\u001b[0m\u001b[1;33m(\u001b[0m\u001b[0malgo\u001b[0m\u001b[1;33m)\u001b[0m\u001b[1;33m)\u001b[0m\u001b[1;33m\u001b[0m\u001b[1;33m\u001b[0m\u001b[0m\n\u001b[0;32m      6\u001b[0m     \u001b[0mprint\u001b[0m\u001b[1;33m(\u001b[0m\u001b[0mnp\u001b[0m\u001b[1;33m.\u001b[0m\u001b[0mmean\u001b[0m\u001b[1;33m(\u001b[0m\u001b[0mscores\u001b[0m\u001b[1;33m)\u001b[0m\u001b[1;33m)\u001b[0m\u001b[1;33m\u001b[0m\u001b[1;33m\u001b[0m\u001b[0m\n",
      "\u001b[1;32m~\\anaconda3\\lib\\site-packages\\sklearn\\utils\\validation.py\u001b[0m in \u001b[0;36minner_f\u001b[1;34m(*args, **kwargs)\u001b[0m\n\u001b[0;32m     61\u001b[0m             \u001b[0mextra_args\u001b[0m \u001b[1;33m=\u001b[0m \u001b[0mlen\u001b[0m\u001b[1;33m(\u001b[0m\u001b[0margs\u001b[0m\u001b[1;33m)\u001b[0m \u001b[1;33m-\u001b[0m \u001b[0mlen\u001b[0m\u001b[1;33m(\u001b[0m\u001b[0mall_args\u001b[0m\u001b[1;33m)\u001b[0m\u001b[1;33m\u001b[0m\u001b[1;33m\u001b[0m\u001b[0m\n\u001b[0;32m     62\u001b[0m             \u001b[1;32mif\u001b[0m \u001b[0mextra_args\u001b[0m \u001b[1;33m<=\u001b[0m \u001b[1;36m0\u001b[0m\u001b[1;33m:\u001b[0m\u001b[1;33m\u001b[0m\u001b[1;33m\u001b[0m\u001b[0m\n\u001b[1;32m---> 63\u001b[1;33m                 \u001b[1;32mreturn\u001b[0m \u001b[0mf\u001b[0m\u001b[1;33m(\u001b[0m\u001b[1;33m*\u001b[0m\u001b[0margs\u001b[0m\u001b[1;33m,\u001b[0m \u001b[1;33m**\u001b[0m\u001b[0mkwargs\u001b[0m\u001b[1;33m)\u001b[0m\u001b[1;33m\u001b[0m\u001b[1;33m\u001b[0m\u001b[0m\n\u001b[0m\u001b[0;32m     64\u001b[0m \u001b[1;33m\u001b[0m\u001b[0m\n\u001b[0;32m     65\u001b[0m             \u001b[1;31m# extra_args > 0\u001b[0m\u001b[1;33m\u001b[0m\u001b[1;33m\u001b[0m\u001b[1;33m\u001b[0m\u001b[0m\n",
      "\u001b[1;32m~\\anaconda3\\lib\\site-packages\\sklearn\\model_selection\\_validation.py\u001b[0m in \u001b[0;36mcross_val_score\u001b[1;34m(estimator, X, y, groups, scoring, cv, n_jobs, verbose, fit_params, pre_dispatch, error_score)\u001b[0m\n\u001b[0;32m    438\u001b[0m     \u001b[0mscorer\u001b[0m \u001b[1;33m=\u001b[0m \u001b[0mcheck_scoring\u001b[0m\u001b[1;33m(\u001b[0m\u001b[0mestimator\u001b[0m\u001b[1;33m,\u001b[0m \u001b[0mscoring\u001b[0m\u001b[1;33m=\u001b[0m\u001b[0mscoring\u001b[0m\u001b[1;33m)\u001b[0m\u001b[1;33m\u001b[0m\u001b[1;33m\u001b[0m\u001b[0m\n\u001b[0;32m    439\u001b[0m \u001b[1;33m\u001b[0m\u001b[0m\n\u001b[1;32m--> 440\u001b[1;33m     cv_results = cross_validate(estimator=estimator, X=X, y=y, groups=groups,\n\u001b[0m\u001b[0;32m    441\u001b[0m                                 \u001b[0mscoring\u001b[0m\u001b[1;33m=\u001b[0m\u001b[1;33m{\u001b[0m\u001b[1;34m'score'\u001b[0m\u001b[1;33m:\u001b[0m \u001b[0mscorer\u001b[0m\u001b[1;33m}\u001b[0m\u001b[1;33m,\u001b[0m \u001b[0mcv\u001b[0m\u001b[1;33m=\u001b[0m\u001b[0mcv\u001b[0m\u001b[1;33m,\u001b[0m\u001b[1;33m\u001b[0m\u001b[1;33m\u001b[0m\u001b[0m\n\u001b[0;32m    442\u001b[0m                                 \u001b[0mn_jobs\u001b[0m\u001b[1;33m=\u001b[0m\u001b[0mn_jobs\u001b[0m\u001b[1;33m,\u001b[0m \u001b[0mverbose\u001b[0m\u001b[1;33m=\u001b[0m\u001b[0mverbose\u001b[0m\u001b[1;33m,\u001b[0m\u001b[1;33m\u001b[0m\u001b[1;33m\u001b[0m\u001b[0m\n",
      "\u001b[1;32m~\\anaconda3\\lib\\site-packages\\sklearn\\utils\\validation.py\u001b[0m in \u001b[0;36minner_f\u001b[1;34m(*args, **kwargs)\u001b[0m\n\u001b[0;32m     61\u001b[0m             \u001b[0mextra_args\u001b[0m \u001b[1;33m=\u001b[0m \u001b[0mlen\u001b[0m\u001b[1;33m(\u001b[0m\u001b[0margs\u001b[0m\u001b[1;33m)\u001b[0m \u001b[1;33m-\u001b[0m \u001b[0mlen\u001b[0m\u001b[1;33m(\u001b[0m\u001b[0mall_args\u001b[0m\u001b[1;33m)\u001b[0m\u001b[1;33m\u001b[0m\u001b[1;33m\u001b[0m\u001b[0m\n\u001b[0;32m     62\u001b[0m             \u001b[1;32mif\u001b[0m \u001b[0mextra_args\u001b[0m \u001b[1;33m<=\u001b[0m \u001b[1;36m0\u001b[0m\u001b[1;33m:\u001b[0m\u001b[1;33m\u001b[0m\u001b[1;33m\u001b[0m\u001b[0m\n\u001b[1;32m---> 63\u001b[1;33m                 \u001b[1;32mreturn\u001b[0m \u001b[0mf\u001b[0m\u001b[1;33m(\u001b[0m\u001b[1;33m*\u001b[0m\u001b[0margs\u001b[0m\u001b[1;33m,\u001b[0m \u001b[1;33m**\u001b[0m\u001b[0mkwargs\u001b[0m\u001b[1;33m)\u001b[0m\u001b[1;33m\u001b[0m\u001b[1;33m\u001b[0m\u001b[0m\n\u001b[0m\u001b[0;32m     64\u001b[0m \u001b[1;33m\u001b[0m\u001b[0m\n\u001b[0;32m     65\u001b[0m             \u001b[1;31m# extra_args > 0\u001b[0m\u001b[1;33m\u001b[0m\u001b[1;33m\u001b[0m\u001b[1;33m\u001b[0m\u001b[0m\n",
      "\u001b[1;32m~\\anaconda3\\lib\\site-packages\\sklearn\\model_selection\\_validation.py\u001b[0m in \u001b[0;36mcross_validate\u001b[1;34m(estimator, X, y, groups, scoring, cv, n_jobs, verbose, fit_params, pre_dispatch, return_train_score, return_estimator, error_score)\u001b[0m\n\u001b[0;32m    244\u001b[0m     parallel = Parallel(n_jobs=n_jobs, verbose=verbose,\n\u001b[0;32m    245\u001b[0m                         pre_dispatch=pre_dispatch)\n\u001b[1;32m--> 246\u001b[1;33m     results = parallel(\n\u001b[0m\u001b[0;32m    247\u001b[0m         delayed(_fit_and_score)(\n\u001b[0;32m    248\u001b[0m             \u001b[0mclone\u001b[0m\u001b[1;33m(\u001b[0m\u001b[0mestimator\u001b[0m\u001b[1;33m)\u001b[0m\u001b[1;33m,\u001b[0m \u001b[0mX\u001b[0m\u001b[1;33m,\u001b[0m \u001b[0my\u001b[0m\u001b[1;33m,\u001b[0m \u001b[0mscorers\u001b[0m\u001b[1;33m,\u001b[0m \u001b[0mtrain\u001b[0m\u001b[1;33m,\u001b[0m \u001b[0mtest\u001b[0m\u001b[1;33m,\u001b[0m \u001b[0mverbose\u001b[0m\u001b[1;33m,\u001b[0m \u001b[1;32mNone\u001b[0m\u001b[1;33m,\u001b[0m\u001b[1;33m\u001b[0m\u001b[1;33m\u001b[0m\u001b[0m\n",
      "\u001b[1;32m~\\anaconda3\\lib\\site-packages\\joblib\\parallel.py\u001b[0m in \u001b[0;36m__call__\u001b[1;34m(self, iterable)\u001b[0m\n\u001b[0;32m   1039\u001b[0m             \u001b[1;31m# remaining jobs.\u001b[0m\u001b[1;33m\u001b[0m\u001b[1;33m\u001b[0m\u001b[1;33m\u001b[0m\u001b[0m\n\u001b[0;32m   1040\u001b[0m             \u001b[0mself\u001b[0m\u001b[1;33m.\u001b[0m\u001b[0m_iterating\u001b[0m \u001b[1;33m=\u001b[0m \u001b[1;32mFalse\u001b[0m\u001b[1;33m\u001b[0m\u001b[1;33m\u001b[0m\u001b[0m\n\u001b[1;32m-> 1041\u001b[1;33m             \u001b[1;32mif\u001b[0m \u001b[0mself\u001b[0m\u001b[1;33m.\u001b[0m\u001b[0mdispatch_one_batch\u001b[0m\u001b[1;33m(\u001b[0m\u001b[0miterator\u001b[0m\u001b[1;33m)\u001b[0m\u001b[1;33m:\u001b[0m\u001b[1;33m\u001b[0m\u001b[1;33m\u001b[0m\u001b[0m\n\u001b[0m\u001b[0;32m   1042\u001b[0m                 \u001b[0mself\u001b[0m\u001b[1;33m.\u001b[0m\u001b[0m_iterating\u001b[0m \u001b[1;33m=\u001b[0m \u001b[0mself\u001b[0m\u001b[1;33m.\u001b[0m\u001b[0m_original_iterator\u001b[0m \u001b[1;32mis\u001b[0m \u001b[1;32mnot\u001b[0m \u001b[1;32mNone\u001b[0m\u001b[1;33m\u001b[0m\u001b[1;33m\u001b[0m\u001b[0m\n\u001b[0;32m   1043\u001b[0m \u001b[1;33m\u001b[0m\u001b[0m\n",
      "\u001b[1;32m~\\anaconda3\\lib\\site-packages\\joblib\\parallel.py\u001b[0m in \u001b[0;36mdispatch_one_batch\u001b[1;34m(self, iterator)\u001b[0m\n\u001b[0;32m    857\u001b[0m                 \u001b[1;32mreturn\u001b[0m \u001b[1;32mFalse\u001b[0m\u001b[1;33m\u001b[0m\u001b[1;33m\u001b[0m\u001b[0m\n\u001b[0;32m    858\u001b[0m             \u001b[1;32melse\u001b[0m\u001b[1;33m:\u001b[0m\u001b[1;33m\u001b[0m\u001b[1;33m\u001b[0m\u001b[0m\n\u001b[1;32m--> 859\u001b[1;33m                 \u001b[0mself\u001b[0m\u001b[1;33m.\u001b[0m\u001b[0m_dispatch\u001b[0m\u001b[1;33m(\u001b[0m\u001b[0mtasks\u001b[0m\u001b[1;33m)\u001b[0m\u001b[1;33m\u001b[0m\u001b[1;33m\u001b[0m\u001b[0m\n\u001b[0m\u001b[0;32m    860\u001b[0m                 \u001b[1;32mreturn\u001b[0m \u001b[1;32mTrue\u001b[0m\u001b[1;33m\u001b[0m\u001b[1;33m\u001b[0m\u001b[0m\n\u001b[0;32m    861\u001b[0m \u001b[1;33m\u001b[0m\u001b[0m\n",
      "\u001b[1;32m~\\anaconda3\\lib\\site-packages\\joblib\\parallel.py\u001b[0m in \u001b[0;36m_dispatch\u001b[1;34m(self, batch)\u001b[0m\n\u001b[0;32m    775\u001b[0m         \u001b[1;32mwith\u001b[0m \u001b[0mself\u001b[0m\u001b[1;33m.\u001b[0m\u001b[0m_lock\u001b[0m\u001b[1;33m:\u001b[0m\u001b[1;33m\u001b[0m\u001b[1;33m\u001b[0m\u001b[0m\n\u001b[0;32m    776\u001b[0m             \u001b[0mjob_idx\u001b[0m \u001b[1;33m=\u001b[0m \u001b[0mlen\u001b[0m\u001b[1;33m(\u001b[0m\u001b[0mself\u001b[0m\u001b[1;33m.\u001b[0m\u001b[0m_jobs\u001b[0m\u001b[1;33m)\u001b[0m\u001b[1;33m\u001b[0m\u001b[1;33m\u001b[0m\u001b[0m\n\u001b[1;32m--> 777\u001b[1;33m             \u001b[0mjob\u001b[0m \u001b[1;33m=\u001b[0m \u001b[0mself\u001b[0m\u001b[1;33m.\u001b[0m\u001b[0m_backend\u001b[0m\u001b[1;33m.\u001b[0m\u001b[0mapply_async\u001b[0m\u001b[1;33m(\u001b[0m\u001b[0mbatch\u001b[0m\u001b[1;33m,\u001b[0m \u001b[0mcallback\u001b[0m\u001b[1;33m=\u001b[0m\u001b[0mcb\u001b[0m\u001b[1;33m)\u001b[0m\u001b[1;33m\u001b[0m\u001b[1;33m\u001b[0m\u001b[0m\n\u001b[0m\u001b[0;32m    778\u001b[0m             \u001b[1;31m# A job can complete so quickly than its callback is\u001b[0m\u001b[1;33m\u001b[0m\u001b[1;33m\u001b[0m\u001b[1;33m\u001b[0m\u001b[0m\n\u001b[0;32m    779\u001b[0m             \u001b[1;31m# called before we get here, causing self._jobs to\u001b[0m\u001b[1;33m\u001b[0m\u001b[1;33m\u001b[0m\u001b[1;33m\u001b[0m\u001b[0m\n",
      "\u001b[1;32m~\\anaconda3\\lib\\site-packages\\joblib\\_parallel_backends.py\u001b[0m in \u001b[0;36mapply_async\u001b[1;34m(self, func, callback)\u001b[0m\n\u001b[0;32m    206\u001b[0m     \u001b[1;32mdef\u001b[0m \u001b[0mapply_async\u001b[0m\u001b[1;33m(\u001b[0m\u001b[0mself\u001b[0m\u001b[1;33m,\u001b[0m \u001b[0mfunc\u001b[0m\u001b[1;33m,\u001b[0m \u001b[0mcallback\u001b[0m\u001b[1;33m=\u001b[0m\u001b[1;32mNone\u001b[0m\u001b[1;33m)\u001b[0m\u001b[1;33m:\u001b[0m\u001b[1;33m\u001b[0m\u001b[1;33m\u001b[0m\u001b[0m\n\u001b[0;32m    207\u001b[0m         \u001b[1;34m\"\"\"Schedule a func to be run\"\"\"\u001b[0m\u001b[1;33m\u001b[0m\u001b[1;33m\u001b[0m\u001b[0m\n\u001b[1;32m--> 208\u001b[1;33m         \u001b[0mresult\u001b[0m \u001b[1;33m=\u001b[0m \u001b[0mImmediateResult\u001b[0m\u001b[1;33m(\u001b[0m\u001b[0mfunc\u001b[0m\u001b[1;33m)\u001b[0m\u001b[1;33m\u001b[0m\u001b[1;33m\u001b[0m\u001b[0m\n\u001b[0m\u001b[0;32m    209\u001b[0m         \u001b[1;32mif\u001b[0m \u001b[0mcallback\u001b[0m\u001b[1;33m:\u001b[0m\u001b[1;33m\u001b[0m\u001b[1;33m\u001b[0m\u001b[0m\n\u001b[0;32m    210\u001b[0m             \u001b[0mcallback\u001b[0m\u001b[1;33m(\u001b[0m\u001b[0mresult\u001b[0m\u001b[1;33m)\u001b[0m\u001b[1;33m\u001b[0m\u001b[1;33m\u001b[0m\u001b[0m\n",
      "\u001b[1;32m~\\anaconda3\\lib\\site-packages\\joblib\\_parallel_backends.py\u001b[0m in \u001b[0;36m__init__\u001b[1;34m(self, batch)\u001b[0m\n\u001b[0;32m    570\u001b[0m         \u001b[1;31m# Don't delay the application, to avoid keeping the input\u001b[0m\u001b[1;33m\u001b[0m\u001b[1;33m\u001b[0m\u001b[1;33m\u001b[0m\u001b[0m\n\u001b[0;32m    571\u001b[0m         \u001b[1;31m# arguments in memory\u001b[0m\u001b[1;33m\u001b[0m\u001b[1;33m\u001b[0m\u001b[1;33m\u001b[0m\u001b[0m\n\u001b[1;32m--> 572\u001b[1;33m         \u001b[0mself\u001b[0m\u001b[1;33m.\u001b[0m\u001b[0mresults\u001b[0m \u001b[1;33m=\u001b[0m \u001b[0mbatch\u001b[0m\u001b[1;33m(\u001b[0m\u001b[1;33m)\u001b[0m\u001b[1;33m\u001b[0m\u001b[1;33m\u001b[0m\u001b[0m\n\u001b[0m\u001b[0;32m    573\u001b[0m \u001b[1;33m\u001b[0m\u001b[0m\n\u001b[0;32m    574\u001b[0m     \u001b[1;32mdef\u001b[0m \u001b[0mget\u001b[0m\u001b[1;33m(\u001b[0m\u001b[0mself\u001b[0m\u001b[1;33m)\u001b[0m\u001b[1;33m:\u001b[0m\u001b[1;33m\u001b[0m\u001b[1;33m\u001b[0m\u001b[0m\n",
      "\u001b[1;32m~\\anaconda3\\lib\\site-packages\\joblib\\parallel.py\u001b[0m in \u001b[0;36m__call__\u001b[1;34m(self)\u001b[0m\n\u001b[0;32m    260\u001b[0m         \u001b[1;31m# change the default number of processes to -1\u001b[0m\u001b[1;33m\u001b[0m\u001b[1;33m\u001b[0m\u001b[1;33m\u001b[0m\u001b[0m\n\u001b[0;32m    261\u001b[0m         \u001b[1;32mwith\u001b[0m \u001b[0mparallel_backend\u001b[0m\u001b[1;33m(\u001b[0m\u001b[0mself\u001b[0m\u001b[1;33m.\u001b[0m\u001b[0m_backend\u001b[0m\u001b[1;33m,\u001b[0m \u001b[0mn_jobs\u001b[0m\u001b[1;33m=\u001b[0m\u001b[0mself\u001b[0m\u001b[1;33m.\u001b[0m\u001b[0m_n_jobs\u001b[0m\u001b[1;33m)\u001b[0m\u001b[1;33m:\u001b[0m\u001b[1;33m\u001b[0m\u001b[1;33m\u001b[0m\u001b[0m\n\u001b[1;32m--> 262\u001b[1;33m             return [func(*args, **kwargs)\n\u001b[0m\u001b[0;32m    263\u001b[0m                     for func, args, kwargs in self.items]\n\u001b[0;32m    264\u001b[0m \u001b[1;33m\u001b[0m\u001b[0m\n",
      "\u001b[1;32m~\\anaconda3\\lib\\site-packages\\joblib\\parallel.py\u001b[0m in \u001b[0;36m<listcomp>\u001b[1;34m(.0)\u001b[0m\n\u001b[0;32m    260\u001b[0m         \u001b[1;31m# change the default number of processes to -1\u001b[0m\u001b[1;33m\u001b[0m\u001b[1;33m\u001b[0m\u001b[1;33m\u001b[0m\u001b[0m\n\u001b[0;32m    261\u001b[0m         \u001b[1;32mwith\u001b[0m \u001b[0mparallel_backend\u001b[0m\u001b[1;33m(\u001b[0m\u001b[0mself\u001b[0m\u001b[1;33m.\u001b[0m\u001b[0m_backend\u001b[0m\u001b[1;33m,\u001b[0m \u001b[0mn_jobs\u001b[0m\u001b[1;33m=\u001b[0m\u001b[0mself\u001b[0m\u001b[1;33m.\u001b[0m\u001b[0m_n_jobs\u001b[0m\u001b[1;33m)\u001b[0m\u001b[1;33m:\u001b[0m\u001b[1;33m\u001b[0m\u001b[1;33m\u001b[0m\u001b[0m\n\u001b[1;32m--> 262\u001b[1;33m             return [func(*args, **kwargs)\n\u001b[0m\u001b[0;32m    263\u001b[0m                     for func, args, kwargs in self.items]\n\u001b[0;32m    264\u001b[0m \u001b[1;33m\u001b[0m\u001b[0m\n",
      "\u001b[1;32m~\\anaconda3\\lib\\site-packages\\sklearn\\utils\\fixes.py\u001b[0m in \u001b[0;36m__call__\u001b[1;34m(self, *args, **kwargs)\u001b[0m\n\u001b[0;32m    220\u001b[0m     \u001b[1;32mdef\u001b[0m \u001b[0m__call__\u001b[0m\u001b[1;33m(\u001b[0m\u001b[0mself\u001b[0m\u001b[1;33m,\u001b[0m \u001b[1;33m*\u001b[0m\u001b[0margs\u001b[0m\u001b[1;33m,\u001b[0m \u001b[1;33m**\u001b[0m\u001b[0mkwargs\u001b[0m\u001b[1;33m)\u001b[0m\u001b[1;33m:\u001b[0m\u001b[1;33m\u001b[0m\u001b[1;33m\u001b[0m\u001b[0m\n\u001b[0;32m    221\u001b[0m         \u001b[1;32mwith\u001b[0m \u001b[0mconfig_context\u001b[0m\u001b[1;33m(\u001b[0m\u001b[1;33m**\u001b[0m\u001b[0mself\u001b[0m\u001b[1;33m.\u001b[0m\u001b[0mconfig\u001b[0m\u001b[1;33m)\u001b[0m\u001b[1;33m:\u001b[0m\u001b[1;33m\u001b[0m\u001b[1;33m\u001b[0m\u001b[0m\n\u001b[1;32m--> 222\u001b[1;33m             \u001b[1;32mreturn\u001b[0m \u001b[0mself\u001b[0m\u001b[1;33m.\u001b[0m\u001b[0mfunction\u001b[0m\u001b[1;33m(\u001b[0m\u001b[1;33m*\u001b[0m\u001b[0margs\u001b[0m\u001b[1;33m,\u001b[0m \u001b[1;33m**\u001b[0m\u001b[0mkwargs\u001b[0m\u001b[1;33m)\u001b[0m\u001b[1;33m\u001b[0m\u001b[1;33m\u001b[0m\u001b[0m\n\u001b[0m",
      "\u001b[1;32m~\\anaconda3\\lib\\site-packages\\sklearn\\model_selection\\_validation.py\u001b[0m in \u001b[0;36m_fit_and_score\u001b[1;34m(estimator, X, y, scorer, train, test, verbose, parameters, fit_params, return_train_score, return_parameters, return_n_test_samples, return_times, return_estimator, split_progress, candidate_progress, error_score)\u001b[0m\n\u001b[0;32m    591\u001b[0m             \u001b[0mestimator\u001b[0m\u001b[1;33m.\u001b[0m\u001b[0mfit\u001b[0m\u001b[1;33m(\u001b[0m\u001b[0mX_train\u001b[0m\u001b[1;33m,\u001b[0m \u001b[1;33m**\u001b[0m\u001b[0mfit_params\u001b[0m\u001b[1;33m)\u001b[0m\u001b[1;33m\u001b[0m\u001b[1;33m\u001b[0m\u001b[0m\n\u001b[0;32m    592\u001b[0m         \u001b[1;32melse\u001b[0m\u001b[1;33m:\u001b[0m\u001b[1;33m\u001b[0m\u001b[1;33m\u001b[0m\u001b[0m\n\u001b[1;32m--> 593\u001b[1;33m             \u001b[0mestimator\u001b[0m\u001b[1;33m.\u001b[0m\u001b[0mfit\u001b[0m\u001b[1;33m(\u001b[0m\u001b[0mX_train\u001b[0m\u001b[1;33m,\u001b[0m \u001b[0my_train\u001b[0m\u001b[1;33m,\u001b[0m \u001b[1;33m**\u001b[0m\u001b[0mfit_params\u001b[0m\u001b[1;33m)\u001b[0m\u001b[1;33m\u001b[0m\u001b[1;33m\u001b[0m\u001b[0m\n\u001b[0m\u001b[0;32m    594\u001b[0m \u001b[1;33m\u001b[0m\u001b[0m\n\u001b[0;32m    595\u001b[0m     \u001b[1;32mexcept\u001b[0m \u001b[0mException\u001b[0m \u001b[1;32mas\u001b[0m \u001b[0me\u001b[0m\u001b[1;33m:\u001b[0m\u001b[1;33m\u001b[0m\u001b[1;33m\u001b[0m\u001b[0m\n",
      "\u001b[1;32m~\\anaconda3\\lib\\site-packages\\sklearn\\svm\\_base.py\u001b[0m in \u001b[0;36mfit\u001b[1;34m(self, X, y, sample_weight)\u001b[0m\n\u001b[0;32m    224\u001b[0m \u001b[1;33m\u001b[0m\u001b[0m\n\u001b[0;32m    225\u001b[0m         \u001b[0mseed\u001b[0m \u001b[1;33m=\u001b[0m \u001b[0mrnd\u001b[0m\u001b[1;33m.\u001b[0m\u001b[0mrandint\u001b[0m\u001b[1;33m(\u001b[0m\u001b[0mnp\u001b[0m\u001b[1;33m.\u001b[0m\u001b[0miinfo\u001b[0m\u001b[1;33m(\u001b[0m\u001b[1;34m'i'\u001b[0m\u001b[1;33m)\u001b[0m\u001b[1;33m.\u001b[0m\u001b[0mmax\u001b[0m\u001b[1;33m)\u001b[0m\u001b[1;33m\u001b[0m\u001b[1;33m\u001b[0m\u001b[0m\n\u001b[1;32m--> 226\u001b[1;33m         \u001b[0mfit\u001b[0m\u001b[1;33m(\u001b[0m\u001b[0mX\u001b[0m\u001b[1;33m,\u001b[0m \u001b[0my\u001b[0m\u001b[1;33m,\u001b[0m \u001b[0msample_weight\u001b[0m\u001b[1;33m,\u001b[0m \u001b[0msolver_type\u001b[0m\u001b[1;33m,\u001b[0m \u001b[0mkernel\u001b[0m\u001b[1;33m,\u001b[0m \u001b[0mrandom_seed\u001b[0m\u001b[1;33m=\u001b[0m\u001b[0mseed\u001b[0m\u001b[1;33m)\u001b[0m\u001b[1;33m\u001b[0m\u001b[1;33m\u001b[0m\u001b[0m\n\u001b[0m\u001b[0;32m    227\u001b[0m         \u001b[1;31m# see comment on the other call to np.iinfo in this file\u001b[0m\u001b[1;33m\u001b[0m\u001b[1;33m\u001b[0m\u001b[1;33m\u001b[0m\u001b[0m\n\u001b[0;32m    228\u001b[0m \u001b[1;33m\u001b[0m\u001b[0m\n",
      "\u001b[1;32m~\\anaconda3\\lib\\site-packages\\sklearn\\svm\\_base.py\u001b[0m in \u001b[0;36m_dense_fit\u001b[1;34m(self, X, y, sample_weight, solver_type, kernel, random_seed)\u001b[0m\n\u001b[0;32m    275\u001b[0m         \u001b[0mself\u001b[0m\u001b[1;33m.\u001b[0m\u001b[0msupport_\u001b[0m\u001b[1;33m,\u001b[0m \u001b[0mself\u001b[0m\u001b[1;33m.\u001b[0m\u001b[0msupport_vectors_\u001b[0m\u001b[1;33m,\u001b[0m \u001b[0mself\u001b[0m\u001b[1;33m.\u001b[0m\u001b[0m_n_support\u001b[0m\u001b[1;33m,\u001b[0m\u001b[0;31m \u001b[0m\u001b[0;31m\\\u001b[0m\u001b[1;33m\u001b[0m\u001b[1;33m\u001b[0m\u001b[0m\n\u001b[0;32m    276\u001b[0m             \u001b[0mself\u001b[0m\u001b[1;33m.\u001b[0m\u001b[0mdual_coef_\u001b[0m\u001b[1;33m,\u001b[0m \u001b[0mself\u001b[0m\u001b[1;33m.\u001b[0m\u001b[0mintercept_\u001b[0m\u001b[1;33m,\u001b[0m \u001b[0mself\u001b[0m\u001b[1;33m.\u001b[0m\u001b[0m_probA\u001b[0m\u001b[1;33m,\u001b[0m\u001b[0;31m \u001b[0m\u001b[0;31m\\\u001b[0m\u001b[1;33m\u001b[0m\u001b[1;33m\u001b[0m\u001b[0m\n\u001b[1;32m--> 277\u001b[1;33m             self._probB, self.fit_status_ = libsvm.fit(\n\u001b[0m\u001b[0;32m    278\u001b[0m                 \u001b[0mX\u001b[0m\u001b[1;33m,\u001b[0m \u001b[0my\u001b[0m\u001b[1;33m,\u001b[0m\u001b[1;33m\u001b[0m\u001b[1;33m\u001b[0m\u001b[0m\n\u001b[0;32m    279\u001b[0m                 \u001b[0msvm_type\u001b[0m\u001b[1;33m=\u001b[0m\u001b[0msolver_type\u001b[0m\u001b[1;33m,\u001b[0m \u001b[0msample_weight\u001b[0m\u001b[1;33m=\u001b[0m\u001b[0msample_weight\u001b[0m\u001b[1;33m,\u001b[0m\u001b[1;33m\u001b[0m\u001b[1;33m\u001b[0m\u001b[0m\n",
      "\u001b[1;31mKeyboardInterrupt\u001b[0m: "
     ]
    }
   ],
   "source": [
    "cv = RepeatedStratifiedKFold(n_splits=10, n_repeats=3, random_state=42)\n",
    "\n",
    "for algo in algos:\n",
    "    scores = cross_val_score(algo, X, y, scoring='roc_auc', cv=cv, verbose=0, n_jobs=1)\n",
    "    print(str(algo))\n",
    "    print(np.mean(scores))"
   ]
  },
  {
   "cell_type": "code",
   "execution_count": 46,
   "id": "cf2d8b3f-6fb6-4dd8-a6df-d6ec4d65cf88",
   "metadata": {},
   "outputs": [
    {
     "name": "stdout",
     "output_type": "stream",
     "text": [
      "Started fold 0...\n"
     ]
    },
    {
     "data": {
      "text/plain": [
       "XGBClassifier(base_score=0.5, booster='gbtree', colsample_bylevel=1,\n",
       "              colsample_bynode=1, colsample_bytree=1, gamma=0, gpu_id=-1,\n",
       "              importance_type='gain', interaction_constraints='',\n",
       "              learning_rate=0.05, max_delta_step=0, max_depth=6,\n",
       "              min_child_weight=1, missing=nan, monotone_constraints='()',\n",
       "              n_estimators=10000, n_jobs=4, num_parallel_tree=1, random_state=0,\n",
       "              reg_alpha=0, reg_lambda=1, scale_pos_weight=1, subsample=1,\n",
       "              tree_method='hist', validate_parameters=1, verbosity=0)"
      ]
     },
     "execution_count": 46,
     "metadata": {},
     "output_type": "execute_result"
    },
    {
     "name": "stdout",
     "output_type": "stream",
     "text": [
      "ROC_AUC of fold 0: 0.7179\n",
      "\n",
      "Started fold 1...\n"
     ]
    },
    {
     "data": {
      "text/plain": [
       "XGBClassifier(base_score=0.5, booster='gbtree', colsample_bylevel=1,\n",
       "              colsample_bynode=1, colsample_bytree=1, gamma=0, gpu_id=-1,\n",
       "              importance_type='gain', interaction_constraints='',\n",
       "              learning_rate=0.05, max_delta_step=0, max_depth=6,\n",
       "              min_child_weight=1, missing=nan, monotone_constraints='()',\n",
       "              n_estimators=10000, n_jobs=4, num_parallel_tree=1, random_state=0,\n",
       "              reg_alpha=0, reg_lambda=1, scale_pos_weight=1, subsample=1,\n",
       "              tree_method='hist', validate_parameters=1, verbosity=0)"
      ]
     },
     "execution_count": 46,
     "metadata": {},
     "output_type": "execute_result"
    },
    {
     "name": "stdout",
     "output_type": "stream",
     "text": [
      "ROC_AUC of fold 1: 0.7173\n",
      "\n",
      "Started fold 2...\n"
     ]
    },
    {
     "data": {
      "text/plain": [
       "XGBClassifier(base_score=0.5, booster='gbtree', colsample_bylevel=1,\n",
       "              colsample_bynode=1, colsample_bytree=1, gamma=0, gpu_id=-1,\n",
       "              importance_type='gain', interaction_constraints='',\n",
       "              learning_rate=0.05, max_delta_step=0, max_depth=6,\n",
       "              min_child_weight=1, missing=nan, monotone_constraints='()',\n",
       "              n_estimators=10000, n_jobs=4, num_parallel_tree=1, random_state=0,\n",
       "              reg_alpha=0, reg_lambda=1, scale_pos_weight=1, subsample=1,\n",
       "              tree_method='hist', validate_parameters=1, verbosity=0)"
      ]
     },
     "execution_count": 46,
     "metadata": {},
     "output_type": "execute_result"
    },
    {
     "name": "stdout",
     "output_type": "stream",
     "text": [
      "ROC_AUC of fold 2: 0.7044\n",
      "\n",
      "Started fold 3...\n"
     ]
    },
    {
     "data": {
      "text/plain": [
       "XGBClassifier(base_score=0.5, booster='gbtree', colsample_bylevel=1,\n",
       "              colsample_bynode=1, colsample_bytree=1, gamma=0, gpu_id=-1,\n",
       "              importance_type='gain', interaction_constraints='',\n",
       "              learning_rate=0.05, max_delta_step=0, max_depth=6,\n",
       "              min_child_weight=1, missing=nan, monotone_constraints='()',\n",
       "              n_estimators=10000, n_jobs=4, num_parallel_tree=1, random_state=0,\n",
       "              reg_alpha=0, reg_lambda=1, scale_pos_weight=1, subsample=1,\n",
       "              tree_method='hist', validate_parameters=1, verbosity=0)"
      ]
     },
     "execution_count": 46,
     "metadata": {},
     "output_type": "execute_result"
    },
    {
     "name": "stdout",
     "output_type": "stream",
     "text": [
      "ROC_AUC of fold 3: 0.7097\n",
      "\n",
      "Started fold 4...\n"
     ]
    },
    {
     "data": {
      "text/plain": [
       "XGBClassifier(base_score=0.5, booster='gbtree', colsample_bylevel=1,\n",
       "              colsample_bynode=1, colsample_bytree=1, gamma=0, gpu_id=-1,\n",
       "              importance_type='gain', interaction_constraints='',\n",
       "              learning_rate=0.05, max_delta_step=0, max_depth=6,\n",
       "              min_child_weight=1, missing=nan, monotone_constraints='()',\n",
       "              n_estimators=10000, n_jobs=4, num_parallel_tree=1, random_state=0,\n",
       "              reg_alpha=0, reg_lambda=1, scale_pos_weight=1, subsample=1,\n",
       "              tree_method='hist', validate_parameters=1, verbosity=0)"
      ]
     },
     "execution_count": 46,
     "metadata": {},
     "output_type": "execute_result"
    },
    {
     "name": "stdout",
     "output_type": "stream",
     "text": [
      "ROC_AUC of fold 4: 0.7272\n",
      "\n",
      "Overall ROC_AUC: 0.7153\n"
     ]
    }
   ],
   "source": [
    "cv = StratifiedKFold(n_splits=5, shuffle=True, random_state=42)\n",
    "\n",
    "fold = 0\n",
    "scores = np.empty(5)\n",
    "for train_idx, test_idx in cv.split(X, y):\n",
    "    print(f\"Started fold {fold}...\")\n",
    "    X_cv_train, y_cv_train = X.iloc[train_idx], y.iloc[train_idx]\n",
    "    X_cv_test, y_cv_test = X.iloc[test_idx], y.iloc[test_idx]\n",
    "    # Init/fit XGB\n",
    "    model = xgbc\n",
    "    model.fit(X_cv_train,y_cv_train,\n",
    "              eval_set=[(X_cv_test, y_cv_test)],\n",
    "              early_stopping_rounds=50,verbose=False)\n",
    "    # Generate preds, evaluate\n",
    "    preds = model.predict(X_cv_test)\n",
    "    roc_auc = roc_auc_score(y_cv_test, preds)\n",
    "    print(\"ROC_AUC of fold {}: {:.4f}\\n\".format(fold, roc_auc))\n",
    "    scores[fold] = roc_auc\n",
    "    fold += 1\n",
    "\n",
    "print(\"Overall ROC_AUC: {:.4f}\".format(np.mean(scores)))"
   ]
  },
  {
   "cell_type": "code",
   "execution_count": 47,
   "id": "886b7994-5298-4b65-870e-3e99fc3d61f5",
   "metadata": {},
   "outputs": [
    {
     "name": "stdout",
     "output_type": "stream",
     "text": [
      "Started fold 0...\n"
     ]
    },
    {
     "data": {
      "text/plain": [
       "<catboost.core.CatBoostClassifier at 0x205a4a14940>"
      ]
     },
     "execution_count": 47,
     "metadata": {},
     "output_type": "execute_result"
    },
    {
     "name": "stdout",
     "output_type": "stream",
     "text": [
      "ROC_AUC of fold 0: 0.7146\n",
      "\n",
      "Started fold 1...\n"
     ]
    },
    {
     "data": {
      "text/plain": [
       "<catboost.core.CatBoostClassifier at 0x205a4a14940>"
      ]
     },
     "execution_count": 47,
     "metadata": {},
     "output_type": "execute_result"
    },
    {
     "name": "stdout",
     "output_type": "stream",
     "text": [
      "ROC_AUC of fold 1: 0.7175\n",
      "\n",
      "Started fold 2...\n"
     ]
    },
    {
     "data": {
      "text/plain": [
       "<catboost.core.CatBoostClassifier at 0x205a4a14940>"
      ]
     },
     "execution_count": 47,
     "metadata": {},
     "output_type": "execute_result"
    },
    {
     "name": "stdout",
     "output_type": "stream",
     "text": [
      "ROC_AUC of fold 2: 0.7078\n",
      "\n",
      "Started fold 3...\n"
     ]
    },
    {
     "data": {
      "text/plain": [
       "<catboost.core.CatBoostClassifier at 0x205a4a14940>"
      ]
     },
     "execution_count": 47,
     "metadata": {},
     "output_type": "execute_result"
    },
    {
     "name": "stdout",
     "output_type": "stream",
     "text": [
      "ROC_AUC of fold 3: 0.7115\n",
      "\n",
      "Started fold 4...\n"
     ]
    },
    {
     "data": {
      "text/plain": [
       "<catboost.core.CatBoostClassifier at 0x205a4a14940>"
      ]
     },
     "execution_count": 47,
     "metadata": {},
     "output_type": "execute_result"
    },
    {
     "name": "stdout",
     "output_type": "stream",
     "text": [
      "ROC_AUC of fold 4: 0.7173\n",
      "\n",
      "Overall ROC_AUC: 0.7137\n"
     ]
    }
   ],
   "source": [
    "cv = StratifiedKFold(n_splits=5, shuffle=True, random_state=42)\n",
    "\n",
    "fold = 0\n",
    "scores = np.empty(5)\n",
    "for train_idx, test_idx in cv.split(X, y):\n",
    "    print(f\"Started fold {fold}...\")\n",
    "    X_cv_train, y_cv_train = X.iloc[train_idx], y.iloc[train_idx]\n",
    "    X_cv_test, y_cv_test = X.iloc[test_idx], y.iloc[test_idx]\n",
    "    # Init/fit XGB\n",
    "    model = catbc\n",
    "    model.fit(X_cv_train,y_cv_train,\n",
    "              eval_set=[(X_cv_test, y_cv_test)],\n",
    "              early_stopping_rounds=50,verbose=False)\n",
    "    # Generate preds, evaluate\n",
    "    preds = model.predict(X_cv_test)\n",
    "    roc_auc = roc_auc_score(y_cv_test, preds)\n",
    "    print(\"ROC_AUC of fold {}: {:.4f}\\n\".format(fold, roc_auc))\n",
    "    scores[fold] = roc_auc\n",
    "    fold += 1\n",
    "\n",
    "print(\"Overall ROC_AUC: {:.4f}\".format(np.mean(scores)))"
   ]
  },
  {
   "cell_type": "code",
   "execution_count": 48,
   "id": "32b28433-d21c-4b4c-90a8-d61029980f05",
   "metadata": {},
   "outputs": [
    {
     "name": "stdout",
     "output_type": "stream",
     "text": [
      "Started fold 0...\n",
      "[LightGBM] [Warning] Find whitespaces in feature_names, replace with underlines\n",
      "[LightGBM] [Warning] Auto-choosing row-wise multi-threading, the overhead of testing was 0.000722 seconds.\n",
      "You can set `force_row_wise=true` to remove the overhead.\n",
      "And if memory is not enough, you can set `force_col_wise=true`.\n",
      "[LightGBM] [Warning] Find whitespaces in feature_names, replace with underlines\n"
     ]
    },
    {
     "data": {
      "text/plain": [
       "LGBMClassifier(verbosity=0)"
      ]
     },
     "execution_count": 48,
     "metadata": {},
     "output_type": "execute_result"
    },
    {
     "name": "stdout",
     "output_type": "stream",
     "text": [
      "ROC_AUC of fold 0: 0.7075\n",
      "\n",
      "Started fold 1...\n",
      "[LightGBM] [Warning] Find whitespaces in feature_names, replace with underlines\n",
      "[LightGBM] [Warning] Auto-choosing col-wise multi-threading, the overhead of testing was 0.000943 seconds.\n",
      "You can set `force_col_wise=true` to remove the overhead.\n",
      "[LightGBM] [Warning] Find whitespaces in feature_names, replace with underlines\n"
     ]
    },
    {
     "data": {
      "text/plain": [
       "LGBMClassifier(verbosity=0)"
      ]
     },
     "execution_count": 48,
     "metadata": {},
     "output_type": "execute_result"
    },
    {
     "name": "stdout",
     "output_type": "stream",
     "text": [
      "ROC_AUC of fold 1: 0.7124\n",
      "\n",
      "Started fold 2...\n",
      "[LightGBM] [Warning] Find whitespaces in feature_names, replace with underlines\n",
      "[LightGBM] [Warning] Auto-choosing col-wise multi-threading, the overhead of testing was 0.002577 seconds.\n",
      "You can set `force_col_wise=true` to remove the overhead.\n",
      "[LightGBM] [Warning] Find whitespaces in feature_names, replace with underlines\n"
     ]
    },
    {
     "data": {
      "text/plain": [
       "LGBMClassifier(verbosity=0)"
      ]
     },
     "execution_count": 48,
     "metadata": {},
     "output_type": "execute_result"
    },
    {
     "name": "stdout",
     "output_type": "stream",
     "text": [
      "ROC_AUC of fold 2: 0.7027\n",
      "\n",
      "Started fold 3...\n",
      "[LightGBM] [Warning] Find whitespaces in feature_names, replace with underlines\n",
      "[LightGBM] [Warning] Auto-choosing row-wise multi-threading, the overhead of testing was 0.003460 seconds.\n",
      "You can set `force_row_wise=true` to remove the overhead.\n",
      "And if memory is not enough, you can set `force_col_wise=true`.\n",
      "[LightGBM] [Warning] Find whitespaces in feature_names, replace with underlines\n"
     ]
    },
    {
     "data": {
      "text/plain": [
       "LGBMClassifier(verbosity=0)"
      ]
     },
     "execution_count": 48,
     "metadata": {},
     "output_type": "execute_result"
    },
    {
     "name": "stdout",
     "output_type": "stream",
     "text": [
      "ROC_AUC of fold 3: 0.7004\n",
      "\n",
      "Started fold 4...\n",
      "[LightGBM] [Warning] Find whitespaces in feature_names, replace with underlines\n",
      "[LightGBM] [Warning] Auto-choosing col-wise multi-threading, the overhead of testing was 0.000906 seconds.\n",
      "You can set `force_col_wise=true` to remove the overhead.\n",
      "[LightGBM] [Warning] Find whitespaces in feature_names, replace with underlines\n"
     ]
    },
    {
     "data": {
      "text/plain": [
       "LGBMClassifier(verbosity=0)"
      ]
     },
     "execution_count": 48,
     "metadata": {},
     "output_type": "execute_result"
    },
    {
     "name": "stdout",
     "output_type": "stream",
     "text": [
      "ROC_AUC of fold 4: 0.7239\n",
      "\n",
      "Overall ROC_AUC: 0.7094\n"
     ]
    }
   ],
   "source": [
    "cv = StratifiedKFold(n_splits=5, shuffle=True, random_state=42)\n",
    "\n",
    "fold = 0\n",
    "scores = np.empty(5)\n",
    "for train_idx, test_idx in cv.split(X, y):\n",
    "    print(f\"Started fold {fold}...\")\n",
    "    X_cv_train, y_cv_train = X.iloc[train_idx], y.iloc[train_idx]\n",
    "    X_cv_test, y_cv_test = X.iloc[test_idx], y.iloc[test_idx]\n",
    "    # Init/fit XGB\n",
    "    model = lgbmc\n",
    "    model.fit(X_cv_train,y_cv_train,\n",
    "              eval_set=[(X_cv_test, y_cv_test)],\n",
    "              early_stopping_rounds=50,verbose=False)\n",
    "    # Generate preds, evaluate\n",
    "    preds = model.predict(X_cv_test)\n",
    "    roc_auc = roc_auc_score(y_cv_test, preds)\n",
    "    print(\"ROC_AUC of fold {}: {:.4f}\\n\".format(fold, roc_auc))\n",
    "    scores[fold] = roc_auc\n",
    "    fold += 1\n",
    "\n",
    "print(\"Overall ROC_AUC: {:.4f}\".format(np.mean(scores)))"
   ]
  },
  {
   "cell_type": "markdown",
   "id": "1a48d1ae",
   "metadata": {
    "tags": []
   },
   "source": [
    "## Tune with optuna"
   ]
  },
  {
   "cell_type": "code",
   "execution_count": null,
   "id": "1ca13406",
   "metadata": {},
   "outputs": [],
   "source": [
    "def objective(trial, data =X, target =y):\n",
    "    \n",
    "    param = {\n",
    "            'n_estimators': trial.suggest_int('n_estimators', low =3000, high =12000, step =1000),    \n",
    "            'max_depth': trial.suggest_int('max_depth', 8, 14),\n",
    "            'learning_rate': trial.suggest_float('learning_rate ', low =0.002, high =0.02),\n",
    "            'min_child_weight': trial.suggest_int('min_child_weight', 32, 512, step =32),\n",
    "            'subsample': trial.suggest_discrete_uniform('subsample', 0.5, 0.9, 0.1),\n",
    "            'colsample_bytree': trial.suggest_discrete_uniform('colsample_bytree', 0.5, 0.9, 0.1),\n",
    "            'reg_alpha': trial.suggest_int('reg_alpha', 5, 60),\n",
    "            'reg_lambda': trial.suggest_int('reg_lambda', 5, 60),\n",
    "            'max_depth': trial.suggest_int('max_depth', 6, 20, 2),\n",
    "            'n_jobs': 4,\n",
    "#            'tree_method': 'gpu_hist', #only use with GPU\n",
    "#            'predictor': 'gpu_predictor', #only use with GPU\n",
    "            'tree_method': 'hist',\n",
    "        }\n",
    "\n",
    "    train_x, test_x, train_y, test_y = train_test_split(data, target, test_size=0.15,random_state=42)\n",
    "\n",
    "    model = xgb.XGBRegressor(**param)   \n",
    "    model.fit(train_x, train_y, eval_set=[(test_x, test_y)],\n",
    "              early_stopping_rounds=100, verbose=False)\n",
    "    \n",
    "    preds = model.predict(test_x)\n",
    "    rmse = mean_squared_error(test_y, preds,squared=False)\n",
    "    return rmse"
   ]
  },
  {
   "cell_type": "code",
   "execution_count": null,
   "id": "6f6e9d76",
   "metadata": {
    "scrolled": true
   },
   "outputs": [],
   "source": [
    "study = optuna.create_study(direction='minimize')\n",
    "study.optimize(objective, n_trials=50)\n",
    "print('Number of finished trials:', len(study.trials))\n",
    "study.best_trial\n",
    "study.best_trial.values\n",
    "study.best_trial.params"
   ]
  },
  {
   "cell_type": "code",
   "execution_count": null,
   "id": "29785ec1",
   "metadata": {},
   "outputs": [],
   "source": [
    "study.trials_dataframe()"
   ]
  },
  {
   "cell_type": "code",
   "execution_count": null,
   "id": "3ab81be1",
   "metadata": {},
   "outputs": [],
   "source": [
    "#plot_optimization_history: shows the scores from all trials as well as the best score so far at each point.\n",
    "optuna.visualization.plot_optimization_history(study)\n",
    "\n",
    "#plot_parallel_coordinate: interactively visualizes the hyperparameters and scores\n",
    "optuna.visualization.plot_parallel_coordinate(study)\n",
    "\n",
    "#plot_slice: shows the evolution of the search. You can see where in the hyperparameter space your search\n",
    "# went and which parts of the space were explored more\n",
    "optuna.visualization.plot_slice(study)\n",
    "\n",
    "#plot_contour: plots parameter interactions on an interactive chart. \n",
    "# You can choose which hyperparameters you would like to explore.\n",
    "optuna.visualization.plot_contour(study, params=['alpha',\n",
    "                            #'max_depth',\n",
    "                            'lambda',\n",
    "                            'subsample',\n",
    "                            'learning_rate',\n",
    "                            'subsample'])\n",
    "\n",
    "#Visualize parameter importances.\n",
    "optuna.visualization.plot_param_importances(study)\n",
    "\n",
    "#Visualize empirical distribution function\n",
    "optuna.visualization.plot_edf(study)"
   ]
  },
  {
   "cell_type": "code",
   "execution_count": null,
   "id": "bc9d34da",
   "metadata": {},
   "outputs": [],
   "source": [
    "Best_trial= study.best_trial.params\n",
    "\n",
    "\n",
    "preds = np.zeros(test.shape[0])\n",
    "kf = KFold(n_splits=5,random_state=48,shuffle=True)\n",
    "rmse=[]  # list contains rmse for each fold\n",
    "n=0\n",
    "\n",
    "for trn_idx, test_idx in kf.split(train[columns],train['target']):\n",
    "    X_tr,X_val=train[columns].iloc[trn_idx],train[columns].iloc[test_idx]\n",
    "    y_tr,y_val=train['target'].iloc[trn_idx],train['target'].iloc[test_idx]\n",
    "    \n",
    "    model = xgb.XGBRegressor(**Best_trial)\n",
    "    model.fit(X_tr,y_tr, \n",
    "              eval_set=[(X_val,y_val)], \n",
    "              early_stopping_rounds=100, \n",
    "              verbose=False)\n",
    "    \n",
    "    preds+=model.predict(test[columns])/kf.n_splits\n",
    "    rmse.append(mean_squared_error(y_val, model.predict(X_val), squared=False))\n",
    "    print(n+1,rmse[n])\n",
    "    n+=1\n",
    "\n",
    "\n",
    "np.mean(rmse)"
   ]
  },
  {
   "cell_type": "code",
   "execution_count": null,
   "id": "17000234-7762-431c-b20b-49261122ac16",
   "metadata": {},
   "outputs": [],
   "source": [
    "Best_trial= study.best_trial.params\n",
    "\n",
    "\n",
    "splits = 12\n",
    "stf = StratifiedKFold(n_splits=splits, shuffle=True)\n",
    "oof= np.zeros((X.shape[0],))\n",
    "prediction = 0\n",
    "model_fi = 0\n",
    "total_mean_rmse = 0\n",
    "\n",
    "for num, (train_id, valid_id) in enumerate(stf.split(X, y)):\n",
    "    X_train, X_valid = X.loc[train_id], X.loc[valid_id]\n",
    "    y_train, y_valid = y.loc[train_id], y.loc[valid_id]\n",
    "    \n",
    "    model_xgb = XGBRegressor(**params)\n",
    "    model_xgb.fit(X_train, y_train,\n",
    "              eval_set=[(X_valid, y_valid)],\n",
    "              early_stopping_rounds =200,\n",
    "              eval_metric=\"rmse\",\n",
    "              verbose=False)\n",
    "    \n",
    "    prediction += model_xgb.predict(test) / splits\n",
    "    oof[valid_id] = model_xgb.predict(X_valid)\n",
    "    oof[oof < 0] = 0\n",
    "\n",
    "    fold_rmse = np.sqrt(mean_squared_error(y_valid, oof[valid_id]))\n",
    "    print(f\"Fold {num} RMSE: {fold_rmse}\")"
   ]
  },
  {
   "cell_type": "code",
   "execution_count": null,
   "id": "66c226f8-4c68-4b8a-b92c-95e0f62ee600",
   "metadata": {},
   "outputs": [],
   "source": [
    "import joblib\n",
    "\n",
    "# save the model to disk\n",
    "filename = 'final_model_xgb.sav'\n",
    "joblib.dump(model_xgb, filename)"
   ]
  },
  {
   "cell_type": "markdown",
   "id": "50fe7622-e0ba-4353-abe7-ec2b31cd4cc3",
   "metadata": {},
   "source": [
    "# H2O AutoML"
   ]
  },
  {
   "cell_type": "code",
   "execution_count": null,
   "id": "c6d653d1-8842-48c1-9edb-90bfcb4166dd",
   "metadata": {},
   "outputs": [],
   "source": [
    "#https://www.kaggle.com/keenborder/h20-automl-vs-boosting-models"
   ]
  },
  {
   "cell_type": "code",
   "execution_count": 49,
   "id": "a5ef9cf0-ac36-424c-9cc0-0c94d188f965",
   "metadata": {},
   "outputs": [],
   "source": [
    "import h2o\n",
    "from h2o.automl import H2OAutoML"
   ]
  },
  {
   "cell_type": "code",
   "execution_count": 50,
   "id": "c13dd67f-7624-4c4a-a9b5-5bdd3f116ed8",
   "metadata": {},
   "outputs": [
    {
     "name": "stdout",
     "output_type": "stream",
     "text": [
      "Checking whether there is an H2O instance running at http://localhost:54321 ..... not found.\n",
      "Attempting to start a local H2O server...\n",
      "; OpenJDK 64-Bit Server VM (build 11.0.6+8-b765.1, mixed mode)\n",
      "  Starting server from C:\\Users\\Frank\\anaconda3\\Lib\\site-packages\\h2o\\backend\\bin\\h2o.jar\n",
      "  Ice root: C:\\Users\\Frank\\AppData\\Local\\Temp\\tmpir1yl1rh\n",
      "  JVM stdout: C:\\Users\\Frank\\AppData\\Local\\Temp\\tmpir1yl1rh\\h2o_Frank_started_from_python.out\n",
      "  JVM stderr: C:\\Users\\Frank\\AppData\\Local\\Temp\\tmpir1yl1rh\\h2o_Frank_started_from_python.err\n",
      "  Server is running at http://127.0.0.1:54321\n",
      "Connecting to H2O server at http://127.0.0.1:54321 ... successful.\n"
     ]
    },
    {
     "data": {
      "text/html": [
       "<div style=\"overflow:auto\"><table style=\"width:50%\"><tr><td>H2O_cluster_uptime:</td>\n",
       "<td>03 secs</td></tr>\n",
       "<tr><td>H2O_cluster_timezone:</td>\n",
       "<td>America/Chicago</td></tr>\n",
       "<tr><td>H2O_data_parsing_timezone:</td>\n",
       "<td>UTC</td></tr>\n",
       "<tr><td>H2O_cluster_version:</td>\n",
       "<td>3.32.1.6</td></tr>\n",
       "<tr><td>H2O_cluster_version_age:</td>\n",
       "<td>24 days </td></tr>\n",
       "<tr><td>H2O_cluster_name:</td>\n",
       "<td>H2O_from_python_Frank_r8g138</td></tr>\n",
       "<tr><td>H2O_cluster_total_nodes:</td>\n",
       "<td>1</td></tr>\n",
       "<tr><td>H2O_cluster_free_memory:</td>\n",
       "<td>3.967 Gb</td></tr>\n",
       "<tr><td>H2O_cluster_total_cores:</td>\n",
       "<td>4</td></tr>\n",
       "<tr><td>H2O_cluster_allowed_cores:</td>\n",
       "<td>4</td></tr>\n",
       "<tr><td>H2O_cluster_status:</td>\n",
       "<td>accepting new members, healthy</td></tr>\n",
       "<tr><td>H2O_connection_url:</td>\n",
       "<td>http://127.0.0.1:54321</td></tr>\n",
       "<tr><td>H2O_connection_proxy:</td>\n",
       "<td>{\"http\": null, \"https\": null}</td></tr>\n",
       "<tr><td>H2O_internal_security:</td>\n",
       "<td>False</td></tr>\n",
       "<tr><td>H2O_API_Extensions:</td>\n",
       "<td>Amazon S3, Algos, AutoML, Core V3, TargetEncoder, Core V4</td></tr>\n",
       "<tr><td>Python_version:</td>\n",
       "<td>3.8.8 final</td></tr></table></div>"
      ],
      "text/plain": [
       "--------------------------  ---------------------------------------------------------\n",
       "H2O_cluster_uptime:         03 secs\n",
       "H2O_cluster_timezone:       America/Chicago\n",
       "H2O_data_parsing_timezone:  UTC\n",
       "H2O_cluster_version:        3.32.1.6\n",
       "H2O_cluster_version_age:    24 days\n",
       "H2O_cluster_name:           H2O_from_python_Frank_r8g138\n",
       "H2O_cluster_total_nodes:    1\n",
       "H2O_cluster_free_memory:    3.967 Gb\n",
       "H2O_cluster_total_cores:    4\n",
       "H2O_cluster_allowed_cores:  4\n",
       "H2O_cluster_status:         accepting new members, healthy\n",
       "H2O_connection_url:         http://127.0.0.1:54321\n",
       "H2O_connection_proxy:       {\"http\": null, \"https\": null}\n",
       "H2O_internal_security:      False\n",
       "H2O_API_Extensions:         Amazon S3, Algos, AutoML, Core V3, TargetEncoder, Core V4\n",
       "Python_version:             3.8.8 final\n",
       "--------------------------  ---------------------------------------------------------"
      ]
     },
     "metadata": {},
     "output_type": "display_data"
    }
   ],
   "source": [
    "h2o.init()"
   ]
  },
  {
   "cell_type": "code",
   "execution_count": 51,
   "id": "5f0464ee-b984-4920-8723-a6e472187d10",
   "metadata": {},
   "outputs": [
    {
     "name": "stdout",
     "output_type": "stream",
     "text": [
      "Parse progress: |█████████████████████████████████████████████████████████| 100%\n"
     ]
    }
   ],
   "source": [
    "train = h2o.import_file(\"customer_churn.csv\")"
   ]
  },
  {
   "cell_type": "code",
   "execution_count": 53,
   "id": "35827145-c82f-40ee-be0e-98771b6f51d4",
   "metadata": {},
   "outputs": [],
   "source": [
    "x = train.columns\n",
    "y = \"Churn\"\n",
    "x.remove(y)\n",
    "x.remove(\"customerID\")"
   ]
  },
  {
   "cell_type": "code",
   "execution_count": 54,
   "id": "0da90372-888d-4971-a942-008b4a8261ec",
   "metadata": {},
   "outputs": [
    {
     "name": "stdout",
     "output_type": "stream",
     "text": [
      "AutoML progress: |\n",
      "19:21:39.817: AutoML: XGBoost is not available; skipping it.\n",
      "\n",
      "████████████████████████████████████████████████████████| 100%\n"
     ]
    }
   ],
   "source": [
    "# Run AutoML for 20 base models (limited to 1 hour max runtime by default)\n",
    "aml = H2OAutoML(max_models=20, seed=1,max_runtime_secs = 600)\n",
    "aml.train(x=x, y=y, training_frame=train)"
   ]
  },
  {
   "cell_type": "code",
   "execution_count": 55,
   "id": "de3f2984-74af-41d2-8c45-d90535c0ab1c",
   "metadata": {},
   "outputs": [
    {
     "data": {
      "text/html": [
       "<table>\n",
       "<thead>\n",
       "<tr><th>model_id                                           </th><th style=\"text-align: right;\">     auc</th><th style=\"text-align: right;\">  logloss</th><th style=\"text-align: right;\">   aucpr</th><th style=\"text-align: right;\">  mean_per_class_error</th><th style=\"text-align: right;\">    rmse</th><th style=\"text-align: right;\">     mse</th></tr>\n",
       "</thead>\n",
       "<tbody>\n",
       "<tr><td>StackedEnsemble_BestOfFamily_AutoML_20210912_192139</td><td style=\"text-align: right;\">0.849937</td><td style=\"text-align: right;\"> 0.410467</td><td style=\"text-align: right;\">0.669833</td><td style=\"text-align: right;\">              0.233317</td><td style=\"text-align: right;\">0.36487 </td><td style=\"text-align: right;\">0.13313 </td></tr>\n",
       "<tr><td>GBM_grid__1_AutoML_20210912_192139_model_1         </td><td style=\"text-align: right;\">0.849888</td><td style=\"text-align: right;\"> 0.411075</td><td style=\"text-align: right;\">0.668852</td><td style=\"text-align: right;\">              0.229478</td><td style=\"text-align: right;\">0.364995</td><td style=\"text-align: right;\">0.133221</td></tr>\n",
       "<tr><td>StackedEnsemble_AllModels_AutoML_20210912_192139   </td><td style=\"text-align: right;\">0.849496</td><td style=\"text-align: right;\"> 0.410619</td><td style=\"text-align: right;\">0.670167</td><td style=\"text-align: right;\">              0.227974</td><td style=\"text-align: right;\">0.365016</td><td style=\"text-align: right;\">0.133237</td></tr>\n",
       "<tr><td>GBM_grid__1_AutoML_20210912_192139_model_5         </td><td style=\"text-align: right;\">0.848468</td><td style=\"text-align: right;\"> 0.412404</td><td style=\"text-align: right;\">0.66646 </td><td style=\"text-align: right;\">              0.228965</td><td style=\"text-align: right;\">0.365799</td><td style=\"text-align: right;\">0.133809</td></tr>\n",
       "<tr><td>GBM_5_AutoML_20210912_192139                       </td><td style=\"text-align: right;\">0.848376</td><td style=\"text-align: right;\"> 0.412008</td><td style=\"text-align: right;\">0.666555</td><td style=\"text-align: right;\">              0.229849</td><td style=\"text-align: right;\">0.365693</td><td style=\"text-align: right;\">0.133731</td></tr>\n",
       "<tr><td>GBM_grid__1_AutoML_20210912_192139_model_3         </td><td style=\"text-align: right;\">0.847091</td><td style=\"text-align: right;\"> 0.413564</td><td style=\"text-align: right;\">0.664476</td><td style=\"text-align: right;\">              0.234499</td><td style=\"text-align: right;\">0.366582</td><td style=\"text-align: right;\">0.134382</td></tr>\n",
       "<tr><td>GLM_1_AutoML_20210912_192139                       </td><td style=\"text-align: right;\">0.845059</td><td style=\"text-align: right;\"> 0.417473</td><td style=\"text-align: right;\">0.651896</td><td style=\"text-align: right;\">              0.232852</td><td style=\"text-align: right;\">0.3681  </td><td style=\"text-align: right;\">0.135498</td></tr>\n",
       "<tr><td>GBM_1_AutoML_20210912_192139                       </td><td style=\"text-align: right;\">0.84232 </td><td style=\"text-align: right;\"> 0.419352</td><td style=\"text-align: right;\">0.658317</td><td style=\"text-align: right;\">              0.237548</td><td style=\"text-align: right;\">0.369722</td><td style=\"text-align: right;\">0.136694</td></tr>\n",
       "<tr><td>GBM_2_AutoML_20210912_192139                       </td><td style=\"text-align: right;\">0.839293</td><td style=\"text-align: right;\"> 0.423633</td><td style=\"text-align: right;\">0.650007</td><td style=\"text-align: right;\">              0.236353</td><td style=\"text-align: right;\">0.371553</td><td style=\"text-align: right;\">0.138052</td></tr>\n",
       "<tr><td>GBM_grid__1_AutoML_20210912_192139_model_6         </td><td style=\"text-align: right;\">0.836674</td><td style=\"text-align: right;\"> 0.427045</td><td style=\"text-align: right;\">0.645654</td><td style=\"text-align: right;\">              0.240823</td><td style=\"text-align: right;\">0.373467</td><td style=\"text-align: right;\">0.139477</td></tr>\n",
       "<tr><td>XRT_1_AutoML_20210912_192139                       </td><td style=\"text-align: right;\">0.836058</td><td style=\"text-align: right;\"> 0.430532</td><td style=\"text-align: right;\">0.651359</td><td style=\"text-align: right;\">              0.245368</td><td style=\"text-align: right;\">0.372333</td><td style=\"text-align: right;\">0.138632</td></tr>\n",
       "<tr><td>DeepLearning_1_AutoML_20210912_192139              </td><td style=\"text-align: right;\">0.835918</td><td style=\"text-align: right;\"> 0.435546</td><td style=\"text-align: right;\">0.646225</td><td style=\"text-align: right;\">              0.24265 </td><td style=\"text-align: right;\">0.374818</td><td style=\"text-align: right;\">0.140489</td></tr>\n",
       "<tr><td>GBM_3_AutoML_20210912_192139                       </td><td style=\"text-align: right;\">0.83541 </td><td style=\"text-align: right;\"> 0.42932 </td><td style=\"text-align: right;\">0.649162</td><td style=\"text-align: right;\">              0.245628</td><td style=\"text-align: right;\">0.373848</td><td style=\"text-align: right;\">0.139763</td></tr>\n",
       "<tr><td>DeepLearning_grid__2_AutoML_20210912_192139_model_1</td><td style=\"text-align: right;\">0.832324</td><td style=\"text-align: right;\"> 0.479996</td><td style=\"text-align: right;\">0.623745</td><td style=\"text-align: right;\">              0.244024</td><td style=\"text-align: right;\">0.377458</td><td style=\"text-align: right;\">0.142474</td></tr>\n",
       "<tr><td>GBM_grid__1_AutoML_20210912_192139_model_4         </td><td style=\"text-align: right;\">0.831808</td><td style=\"text-align: right;\"> 0.433383</td><td style=\"text-align: right;\">0.643757</td><td style=\"text-align: right;\">              0.246214</td><td style=\"text-align: right;\">0.375373</td><td style=\"text-align: right;\">0.140905</td></tr>\n",
       "<tr><td>GBM_4_AutoML_20210912_192139                       </td><td style=\"text-align: right;\">0.831787</td><td style=\"text-align: right;\"> 0.437212</td><td style=\"text-align: right;\">0.639632</td><td style=\"text-align: right;\">              0.249824</td><td style=\"text-align: right;\">0.376823</td><td style=\"text-align: right;\">0.141996</td></tr>\n",
       "<tr><td>DRF_1_AutoML_20210912_192139                       </td><td style=\"text-align: right;\">0.827518</td><td style=\"text-align: right;\"> 0.491998</td><td style=\"text-align: right;\">0.628266</td><td style=\"text-align: right;\">              0.252588</td><td style=\"text-align: right;\">0.377075</td><td style=\"text-align: right;\">0.142185</td></tr>\n",
       "<tr><td>DeepLearning_grid__3_AutoML_20210912_192139_model_1</td><td style=\"text-align: right;\">0.823034</td><td style=\"text-align: right;\"> 0.456986</td><td style=\"text-align: right;\">0.604145</td><td style=\"text-align: right;\">              0.25892 </td><td style=\"text-align: right;\">0.387093</td><td style=\"text-align: right;\">0.149841</td></tr>\n",
       "<tr><td>DeepLearning_grid__2_AutoML_20210912_192139_model_2</td><td style=\"text-align: right;\">0.821489</td><td style=\"text-align: right;\"> 0.483717</td><td style=\"text-align: right;\">0.60597 </td><td style=\"text-align: right;\">              0.263417</td><td style=\"text-align: right;\">0.385376</td><td style=\"text-align: right;\">0.148514</td></tr>\n",
       "<tr><td>DeepLearning_grid__1_AutoML_20210912_192139_model_1</td><td style=\"text-align: right;\">0.821423</td><td style=\"text-align: right;\"> 0.497456</td><td style=\"text-align: right;\">0.601497</td><td style=\"text-align: right;\">              0.255903</td><td style=\"text-align: right;\">0.38577 </td><td style=\"text-align: right;\">0.148818</td></tr>\n",
       "<tr><td>GBM_grid__1_AutoML_20210912_192139_model_2         </td><td style=\"text-align: right;\">0.819501</td><td style=\"text-align: right;\"> 0.508892</td><td style=\"text-align: right;\">0.610424</td><td style=\"text-align: right;\">              0.256142</td><td style=\"text-align: right;\">0.396866</td><td style=\"text-align: right;\">0.157503</td></tr>\n",
       "<tr><td>DeepLearning_grid__1_AutoML_20210912_192139_model_2</td><td style=\"text-align: right;\">0.813004</td><td style=\"text-align: right;\"> 0.52109 </td><td style=\"text-align: right;\">0.581174</td><td style=\"text-align: right;\">              0.262908</td><td style=\"text-align: right;\">0.394073</td><td style=\"text-align: right;\">0.155294</td></tr>\n",
       "</tbody>\n",
       "</table>"
      ]
     },
     "metadata": {},
     "output_type": "display_data"
    },
    {
     "data": {
      "text/plain": []
     },
     "execution_count": 55,
     "metadata": {},
     "output_type": "execute_result"
    }
   ],
   "source": [
    "lb = aml.leaderboard\n",
    "lb.head(rows=lb.nrows)"
   ]
  },
  {
   "cell_type": "code",
   "execution_count": 56,
   "id": "512bb20b-b17e-430d-a937-09fb31257194",
   "metadata": {},
   "outputs": [
    {
     "ename": "NameError",
     "evalue": "name 'test' is not defined",
     "output_type": "error",
     "traceback": [
      "\u001b[1;31m---------------------------------------------------------------------------\u001b[0m",
      "\u001b[1;31mNameError\u001b[0m                                 Traceback (most recent call last)",
      "\u001b[1;32m<ipython-input-56-9e239aabe3d2>\u001b[0m in \u001b[0;36m<module>\u001b[1;34m\u001b[0m\n\u001b[1;32m----> 1\u001b[1;33m \u001b[0mpreds\u001b[0m \u001b[1;33m=\u001b[0m \u001b[0maml\u001b[0m\u001b[1;33m.\u001b[0m\u001b[0mpredict\u001b[0m\u001b[1;33m(\u001b[0m\u001b[0mtest\u001b[0m\u001b[1;33m)\u001b[0m\u001b[1;33m\u001b[0m\u001b[1;33m\u001b[0m\u001b[0m\n\u001b[0m",
      "\u001b[1;31mNameError\u001b[0m: name 'test' is not defined"
     ]
    }
   ],
   "source": [
    "preds = aml.predict(test)"
   ]
  },
  {
   "cell_type": "code",
   "execution_count": null,
   "id": "c216d91c-3ef5-4cd1-b99f-9adaf19079e5",
   "metadata": {},
   "outputs": [],
   "source": [
    "# Convert submission to Dataframe, then to csv\n",
    "submission=pd.DataFrame({\n",
    "    \"id\": h2o.as_list(test[\"id\"], use_pandas=True).values[:,0],\n",
    "    \"loss\": h2o.as_list(preds, use_pandas=True).values[:,0]\n",
    "    \n",
    "})\n",
    "\n",
    "submission.to_csv(\"submission.csv\",index=False)"
   ]
  }
 ],
 "metadata": {
  "kernelspec": {
   "display_name": "Python 3",
   "language": "python",
   "name": "python3"
  },
  "language_info": {
   "codemirror_mode": {
    "name": "ipython",
    "version": 3
   },
   "file_extension": ".py",
   "mimetype": "text/x-python",
   "name": "python",
   "nbconvert_exporter": "python",
   "pygments_lexer": "ipython3",
   "version": "3.8.8"
  },
  "toc": {
   "base_numbering": 1,
   "nav_menu": {},
   "number_sections": true,
   "sideBar": true,
   "skip_h1_title": false,
   "title_cell": "Table of Contents",
   "title_sidebar": "Contents",
   "toc_cell": false,
   "toc_position": {},
   "toc_section_display": true,
   "toc_window_display": false
  },
  "varInspector": {
   "cols": {
    "lenName": 16,
    "lenType": 16,
    "lenVar": 40
   },
   "kernels_config": {
    "python": {
     "delete_cmd_postfix": "",
     "delete_cmd_prefix": "del ",
     "library": "var_list.py",
     "varRefreshCmd": "print(var_dic_list())"
    },
    "r": {
     "delete_cmd_postfix": ") ",
     "delete_cmd_prefix": "rm(",
     "library": "var_list.r",
     "varRefreshCmd": "cat(var_dic_list()) "
    }
   },
   "types_to_exclude": [
    "module",
    "function",
    "builtin_function_or_method",
    "instance",
    "_Feature"
   ],
   "window_display": false
  }
 },
 "nbformat": 4,
 "nbformat_minor": 5
}
